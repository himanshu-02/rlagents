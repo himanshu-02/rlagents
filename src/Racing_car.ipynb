{
 "cells": [
  {
   "cell_type": "markdown",
   "id": "15e80e29",
   "metadata": {},
   "source": [
    "# 1. Import dependencies "
   ]
  },
  {
   "cell_type": "code",
   "execution_count": null,
   "id": "112086b1",
   "metadata": {},
   "outputs": [],
   "source": [
    "import gym \n",
    "from stable_baselines3 import PPO\n",
    "from stable_baselines3.common.vec_env import VecFrameStack\n",
    "from stable_baselines3.common.vec_env import DummyVecEnv\n",
    "from stable_baselines3.common.evaluation import evaluate_policy\n",
    "from stable_baselines3.common.env_util import make_vec_env\n",
    "import os"
   ]
  },
  {
   "cell_type": "markdown",
   "id": "94027513",
   "metadata": {},
   "source": [
    "Description:\n",
    "    The reward is -0.1 every frame and +1000/N for every track tile visited, where \n",
    "    N is the total number of tiles visited in the track. For example, if you have\n",
    "    finished in 732 frames, your reward is 1000 - 0.1*732 = 926.8 points.\n",
    "    The game is solved when the agent consistently gets 900+ points. The generated\n",
    "    track is random every episode.\n",
    "    The episode finishes when all the tiles are visited. The car also can go\n",
    "    outside of the PLAYFIELD -  that is far off the track, then it will get -100\n",
    "    and die.\n",
    "    Some indicators are shown at the bottom of the window along with the state RGB\n",
    "    buffer. From left to right: the true speed, four ABS sensors, the steering\n",
    "    wheel position and gyroscope."
   ]
  },
  {
   "cell_type": "code",
   "execution_count": null,
   "id": "611e361b",
   "metadata": {},
   "outputs": [],
   "source": [
    "environment_name = \"CarRacing-v0\"\n",
    "env = gym.make(environment_name)"
   ]
  },
  {
   "cell_type": "markdown",
   "id": "22ff7796",
   "metadata": {},
   "source": [
    "# 2. Test environment"
   ]
  },
  {
   "cell_type": "code",
   "execution_count": null,
   "id": "83d8b0cc",
   "metadata": {},
   "outputs": [],
   "source": [
    "episodes = 5\n",
    "for episode in range(1, episodes+1):\n",
    "    state = env.reset()\n",
    "    done = False\n",
    "    score = 0 \n",
    "    \n",
    "    while not done:\n",
    "        env.render()\n",
    "        action = env.action_space.sample()\n",
    "        n_state, reward, done, info = env.step(action)\n",
    "        score+=reward\n",
    "    print('Episode:{} Score:{}'.format(episode, score))\n",
    "env.close()\n"
   ]
  },
  {
   "cell_type": "code",
   "execution_count": null,
   "id": "2bf7c5bb",
   "metadata": {},
   "outputs": [],
   "source": [
    "env.close()"
   ]
  },
  {
   "cell_type": "code",
   "execution_count": null,
   "id": "e0c17dad",
   "metadata": {},
   "outputs": [],
   "source": [
    "env.action_space"
   ]
  },
  {
   "cell_type": "code",
   "execution_count": null,
   "id": "7c01af60",
   "metadata": {},
   "outputs": [],
   "source": [
    "env.action_space.sample()"
   ]
  },
  {
   "cell_type": "code",
   "execution_count": null,
   "id": "7a668b58",
   "metadata": {},
   "outputs": [],
   "source": [
    "env.observation_space"
   ]
  },
  {
   "cell_type": "code",
   "execution_count": null,
   "id": "b70daef3",
   "metadata": {},
   "outputs": [],
   "source": [
    "env.observation_space.sample()"
   ]
  },
  {
   "cell_type": "markdown",
   "id": "b93ab56c",
   "metadata": {},
   "source": [
    "# 3. Train Model "
   ]
  },
  {
   "cell_type": "code",
   "execution_count": null,
   "id": "275319ca",
   "metadata": {},
   "outputs": [],
   "source": [
    "env = make_vec_env(\"CarRacing-v0\", n_envs = 4, seed = 0)\n",
    "env = VecFrameStack(env, n_stack=4)\n"
   ]
  },
  {
   "cell_type": "code",
   "execution_count": null,
   "id": "9c56d1a4",
   "metadata": {},
   "outputs": [],
   "source": [
    "log_path = os.path.join('Training', 'Logs')\n",
    "model = PPO(\"CnnPolicy\", env, verbose=1, tensorboard_log=log_path)"
   ]
  },
  {
   "cell_type": "code",
   "execution_count": null,
   "id": "742e9c79",
   "metadata": {},
   "outputs": [],
   "source": [
    "model.learn(total_timesteps = 2000000)"
   ]
  },
  {
   "cell_type": "markdown",
   "id": "85a7036c",
   "metadata": {},
   "source": [
    "# 4. Save model  "
   ]
  },
  {
   "cell_type": "code",
   "execution_count": null,
   "id": "c236de67",
   "metadata": {},
   "outputs": [],
   "source": [
    "ppo_path = os.path.join('Training', 'Saved Models', 'PPO_2m_Driving_model')"
   ]
  },
  {
   "cell_type": "code",
   "execution_count": null,
   "id": "f4666d72",
   "metadata": {},
   "outputs": [],
   "source": [
    "model.save(ppo_path)"
   ]
  },
  {
   "cell_type": "code",
   "execution_count": null,
   "id": "616f1605",
   "metadata": {},
   "outputs": [],
   "source": [
    "env = make_vec_env(\"CarRacing-v0\", n_envs = 1, seed = 0)\n",
    "env = VecFrameStack(env, n_stack=4)"
   ]
  },
  {
   "cell_type": "markdown",
   "id": "2bdea46b",
   "metadata": {},
   "source": [
    "# 5. Load and evaluate model  "
   ]
  },
  {
   "cell_type": "code",
   "execution_count": null,
   "id": "5881fa17",
   "metadata": {},
   "outputs": [],
   "source": [
    "model=PPO.load(ppo_path,env)"
   ]
  },
  {
   "cell_type": "code",
   "execution_count": null,
   "id": "f5fcc80a",
   "metadata": {},
   "outputs": [],
   "source": [
    "evaluate_policy(model, env, n_eval_episodes=10, render=True)"
   ]
  },
  {
   "cell_type": "code",
   "execution_count": null,
   "id": "aaf12c8e",
   "metadata": {},
   "outputs": [],
   "source": [
    "env.close()"
   ]
  },
  {
   "cell_type": "code",
   "execution_count": null,
   "id": "6306c1fa",
   "metadata": {
    "scrolled": true
   },
   "outputs": [],
   "source": [
    "model_path = os.path.join('Training', 'Saved Models', 'PPO_2m_Driving_model')\n",
    "model = PPO.load(model_path, env)\n"
   ]
  },
  {
   "cell_type": "code",
   "execution_count": null,
   "id": "843dacb3",
   "metadata": {},
   "outputs": [],
   "source": [
    "evaluate_policy(model, env, n_eval_episodes = 5, return_episode_rewards = True, render = True)"
   ]
  },
  {
   "cell_type": "code",
   "execution_count": null,
   "id": "dee24741",
   "metadata": {},
   "outputs": [],
   "source": [
    "episodes = 10\n",
    "for episode in range(1, episodes+1):\n",
    "    obs = env.reset()\n",
    "    done = False\n",
    "    score = 0\n",
    "    while not done:\n",
    "        env.render()\n",
    "        action, _ = model.predict(obs)\n",
    "        obs, reward, done, info = env.step(action)\n",
    "        score += reward\n",
    "    print(\"Episode:{} Score:{}\" .format(episode, score))\n",
    "env.close()    "
   ]
  },
  {
   "cell_type": "code",
   "execution_count": null,
   "id": "e772601a",
   "metadata": {},
   "outputs": [],
   "source": [
    "env.close()"
   ]
  },
  {
   "cell_type": "code",
   "execution_count": null,
   "id": "c1cda5d8",
   "metadata": {},
   "outputs": [],
   "source": [
    "evaluate_policy??\n",
    "\n",
    "\n"
   ]
  }
 ],
 "metadata": {
  "kernelspec": {
   "display_name": "Python 3 (ipykernel)",
   "language": "python",
   "name": "python3"
  },
  "language_info": {
   "codemirror_mode": {
    "name": "ipython",
    "version": 3
   },
   "file_extension": ".py",
   "mimetype": "text/x-python",
   "name": "python",
   "nbconvert_exporter": "python",
   "pygments_lexer": "ipython3",
   "version": "3.7.11"
  }
 },
 "nbformat": 4,
 "nbformat_minor": 5
}
