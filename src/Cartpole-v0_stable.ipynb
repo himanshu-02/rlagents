{
 "cells": [
  {
   "cell_type": "markdown",
   "id": "2008c920",
   "metadata": {},
   "source": [
    "# 1. importing dependencies "
   ]
  },
  {
   "cell_type": "code",
   "execution_count": null,
   "id": "c9e5f2b9",
   "metadata": {},
   "outputs": [],
   "source": [
    "import os\n",
    "import gym\n",
    "from gym import wrappers\n",
    "from time import time # just to have timestamps in the files\n",
    "from stable_baselines3 import PPO\n",
    "from stable_baselines3.common.vec_env import DummyVecEnv #Train model on multiple envs at the same time\n",
    "from stable_baselines3.common.evaluation import evaluate_policy #avg reward over episode and get S.D.\n",
    "import math"
   ]
  },
  {
   "cell_type": "markdown",
   "id": "64f2a3ea",
   "metadata": {},
   "source": [
    "Description:\n",
    "        A pole is attached by an un-actuated joint to a cart, which moves along\n",
    "        a frictionless track. The pendulum starts upright, and the goal is to\n",
    "        prevent it from falling over by increasing and reducing the cart's\n",
    "        velocity.\n",
    "    Source:\n",
    "        This environment corresponds to the version of the cart-pole problem\n",
    "        described by Barto, Sutton, and Anderson\n",
    "    Observation:\n",
    "        Type: Box(4)\n",
    "        Num     Observation               Min                     Max\n",
    "        0       Cart Position             -4.8                    4.8\n",
    "        1       Cart Velocity             -Inf                    Inf\n",
    "        2       Pole Angle                -0.418 rad (-24 deg)    0.418 rad (24 deg)\n",
    "        3       Pole Angular Velocity     -Inf                    Inf\n",
    "    Actions:\n",
    "        Type: Discrete(2)\n",
    "        Num   Action\n",
    "        0     Push cart to the left\n",
    "        1     Push cart to the right\n",
    "        Note: The amount the velocity that is reduced or increased is not\n",
    "        fixed; it depends on the angle the pole is pointing. This is because\n",
    "        the center of gravity of the pole increases the amount of energy needed\n",
    "        to move the cart underneath it\n",
    "    Reward:\n",
    "        Reward is 1 for every step taken, including the termination step\n",
    "    Starting State:\n",
    "        All observations are assigned a uniform random value in \\[-0.05..0.05]\n",
    "    Episode Termination:\n",
    "        Pole Angle is more than 12 degrees.\n",
    "        Cart Position is more than 2.4 (center of the cart reaches the edge of\n",
    "        the display).\n",
    "        Episode length is greater than 200.\n",
    "        Solved Requirements:\n",
    "        Considered solved when the average return is greater than or equal to\n",
    "        195.0 over 100 consecutive trials."
   ]
  },
  {
   "cell_type": "code",
   "execution_count": null,
   "id": "6487e97c",
   "metadata": {},
   "outputs": [],
   "source": [
    "environment_name = 'CartPole-v0'\n",
    "env = gym.make(environment_name)"
   ]
  },
  {
   "cell_type": "markdown",
   "id": "4b21ca7d",
   "metadata": {},
   "source": [
    "# Test Environment"
   ]
  },
  {
   "cell_type": "code",
   "execution_count": null,
   "id": "c8fad063",
   "metadata": {
    "scrolled": false
   },
   "outputs": [],
   "source": [
    "episodes = 100\n",
    "scores=[]\n",
    "for episode in range(1, episodes+1):\n",
    "    state = env.reset()\n",
    "    done = False\n",
    "    score = 0\n",
    "    while not done:\n",
    "        env.render()\n",
    "        action = env.action_space.sample()\n",
    "        n_state, reward, done, info = env.step(action)\n",
    "        score+=reward\n",
    "        scores.append(score)\n",
    "    if(score>50):\n",
    "        print(\"Episode:{} Score:{}\" .format(episode, score))\n",
    "print(max(scores))        \n",
    "env.close()"
   ]
  },
  {
   "cell_type": "code",
   "execution_count": null,
   "id": "3435f0aa",
   "metadata": {},
   "outputs": [],
   "source": [
    "env.close()"
   ]
  },
  {
   "cell_type": "code",
   "execution_count": null,
   "id": "82a4963c",
   "metadata": {},
   "outputs": [],
   "source": [
    "env.action_space "
   ]
  },
  {
   "cell_type": "code",
   "execution_count": null,
   "id": "b465f81d",
   "metadata": {},
   "outputs": [],
   "source": [
    "env.action_space.sample() # gives discrete/random output 0 or 1  "
   ]
  },
  {
   "cell_type": "code",
   "execution_count": null,
   "id": "34b475fe",
   "metadata": {},
   "outputs": [],
   "source": [
    "env.observation_space # refer https://github.com/openai/gym/blob/master/gym/envs/classic_control/cartpole.py\n",
    "# Cart position, Cart velocity, Pole angle, Pole angular velocity"
   ]
  },
  {
   "cell_type": "code",
   "execution_count": null,
   "id": "afca1454",
   "metadata": {},
   "outputs": [],
   "source": [
    "env.observation_space.sample() # example of observation_space\n"
   ]
  },
  {
   "cell_type": "code",
   "execution_count": null,
   "id": "4f800f5c",
   "metadata": {},
   "outputs": [],
   "source": [
    "env.step(1)"
   ]
  },
  {
   "cell_type": "markdown",
   "id": "8fb7a2cd",
   "metadata": {},
   "source": [
    "# 3. Train model "
   ]
  },
  {
   "cell_type": "code",
   "execution_count": null,
   "id": "05ae50da",
   "metadata": {},
   "outputs": [],
   "source": [
    "env = gym.make(environment_name)\n",
    "env = DummyVecEnv([lambda: env])\n",
    "model = PPO('MlpPolicy', env, verbose = 1)"
   ]
  },
  {
   "cell_type": "code",
   "execution_count": null,
   "id": "48c1b032",
   "metadata": {},
   "outputs": [],
   "source": [
    "model.learn(total_timesteps=20000)"
   ]
  },
  {
   "cell_type": "markdown",
   "id": "7bd06cf4",
   "metadata": {},
   "source": [
    "# 4. Save model "
   ]
  },
  {
   "cell_type": "code",
   "execution_count": null,
   "id": "36de2884",
   "metadata": {},
   "outputs": [],
   "source": [
    "PPO_path = os.path.join('Training', 'Saved Models', 'PPO_cartpole_20k')\n",
    "model.save(PPO_path)"
   ]
  },
  {
   "cell_type": "markdown",
   "id": "39d97339",
   "metadata": {},
   "source": [
    "# 5. Evaluate model "
   ]
  },
  {
   "cell_type": "code",
   "execution_count": null,
   "id": "5c30a515",
   "metadata": {},
   "outputs": [],
   "source": [
    "evaluate_policy(model, env, n_eval_episodes = 10, render = True) # Two args and Two keyword args"
   ]
  },
  {
   "cell_type": "code",
   "execution_count": null,
   "id": "c8838d4b",
   "metadata": {},
   "outputs": [],
   "source": [
    "env.close()"
   ]
  },
  {
   "cell_type": "markdown",
   "id": "35996724",
   "metadata": {},
   "source": [
    "# 6. Final testing"
   ]
  },
  {
   "cell_type": "code",
   "execution_count": null,
   "id": "163835e8",
   "metadata": {},
   "outputs": [],
   "source": [
    "episodes = 10\n",
    "for episode in range(1, episodes+1):\n",
    "    obs = env.reset()\n",
    "    done = False\n",
    "    score = 0\n",
    "    while not done:\n",
    "        env.render()\n",
    "        action, _ = model.predict(obs)\n",
    "        obs, reward, done, info = env.step(action)\n",
    "        score += reward\n",
    "    print(\"Episode:{} Score:{}\" .format(episode, score))\n",
    "env.close()    "
   ]
  },
  {
   "cell_type": "code",
   "execution_count": null,
   "id": "cc8610eb",
   "metadata": {},
   "outputs": [],
   "source": []
  }
 ],
 "metadata": {
  "kernelspec": {
   "display_name": "Python 3 (ipykernel)",
   "language": "python",
   "name": "python3"
  },
  "language_info": {
   "codemirror_mode": {
    "name": "ipython",
    "version": 3
   },
   "file_extension": ".py",
   "mimetype": "text/x-python",
   "name": "python",
   "nbconvert_exporter": "python",
   "pygments_lexer": "ipython3",
   "version": "3.7.11"
  }
 },
 "nbformat": 4,
 "nbformat_minor": 5
}
