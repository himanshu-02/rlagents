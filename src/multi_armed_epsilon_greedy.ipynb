{
 "cells": [
  {
   "cell_type": "code",
   "execution_count": 4,
   "id": "dc0473ad",
   "metadata": {},
   "outputs": [],
   "source": [
    "import numpy as np\n",
    "import matplotlib.pyplot as plt"
   ]
  },
  {
   "cell_type": "code",
   "execution_count": 5,
   "id": "1db6a4f2",
   "metadata": {},
   "outputs": [],
   "source": [
    "class BanditArm():\n",
    "    def __init__(self , p):\n",
    "        self.p = p \n",
    "        self.p_estimate = 0\n",
    "        self.N = 0\n",
    "    \n",
    "    # randomly generating 1 with probability p\n",
    "    def pull(self):\n",
    "        return np.random.random() < self.p\n",
    "    \n",
    "    # updating the running mean\n",
    "    # Xn = ((N - 1)Xn-1 + X)/N\n",
    "    # where Xn-1 - previous mean , Xn - current mean , X - current data\n",
    "    def update(self , x):\n",
    "        self.N += 1\n",
    "        self.p_estimate = ((self.N - 1)*self.p_estimate + x)/self.N"
   ]
  },
  {
   "cell_type": "code",
   "execution_count": 6,
   "id": "6e618677",
   "metadata": {},
   "outputs": [],
   "source": [
    "NUM_TRAILS = 1000\n",
    "Bandit_probabilities = [0.5 , 0.5]\n",
    "EPS = 0.5"
   ]
  },
  {
   "cell_type": "code",
   "execution_count": 7,
   "id": "3d764db2",
   "metadata": {},
   "outputs": [
    {
     "name": "stdout",
     "output_type": "stream",
     "text": [
      "Mean Estimate  0.4845679012345679\n",
      "Mean Estimate  0.4970414201183437\n",
      "Total reward Earned  493\n",
      "Overall win rate  0.493\n",
      "Number of times optimal bandit Selected  324\n",
      "Number of times explored  526\n",
      "Number of times exploited  474\n"
     ]
    },
    {
     "data": {
      "image/png": "[encoded data removed]",
      "text/plain": [
       "<Figure size 432x288 with 1 Axes>"
      ]
     },
     "metadata": {
      "needs_background": "light"
     },
     "output_type": "display_data"
    }
   ],
   "source": [
    "rewards = []\n",
    "Num_explored = 0\n",
    "Num_exploited = 0\n",
    "num_optimal = 0\n",
    "\n",
    "optimal_j = np.argmax(Bandit_probabilities)\n",
    "\n",
    "bandits = [BanditArm(b) for b in Bandit_probabilities]\n",
    "\n",
    "for i in range(NUM_TRAILS):\n",
    "    \n",
    "    if np.random.random() < EPS:\n",
    "        j = np.random.randint(len(bandits))\n",
    "        Num_explored +=1\n",
    "\n",
    "    else:\n",
    "        j = np.argmax([b.p_estimate for b in bandits])\n",
    "        Num_exploited += 1\n",
    "    \n",
    "    if optimal_j == j:\n",
    "        num_optimal += 1\n",
    "\n",
    "    x = bandits[j].pull()\n",
    "    rewards.append(x)\n",
    "    bandits[j].update(x)\n",
    "\n",
    "for b in bandits:\n",
    "    print(\"Mean Estimate \", b.p_estimate)\n",
    "\n",
    "print(\"Total reward Earned \" , sum(rewards))\n",
    "print(\"Overall win rate \" , sum(rewards)/len(rewards))\n",
    "print(\"Number of times optimal bandit Selected \", num_optimal)\n",
    "print(\"Number of times explored \" , Num_explored)\n",
    "print(\"Number of times exploited \" , Num_exploited)\n",
    "\n",
    "#plot the results\n",
    "cumsum = np.cumsum(rewards)\n",
    "winrates = cumsum / (np.arange(NUM_TRAILS) + 1)\n",
    "plt.plot(winrates)\n",
    "plt.plot(np.ones(NUM_TRAILS)*np.max(Bandit_probabilities))\n",
    "plt.xlabel(\"Iterations\")\n",
    "plt.ylabel(\"Winrates\")\n",
    "plt.show()"
   ]
  },
  {
   "cell_type": "code",
   "execution_count": null,
   "id": "ba965139",
   "metadata": {},
   "outputs": [],
   "source": []
  },
  {
   "cell_type": "code",
   "execution_count": null,
   "id": "1a86a9a3",
   "metadata": {},
   "outputs": [],
   "source": []
  }
 ],
 "metadata": {
  "kernelspec": {
   "display_name": "Python 3 (ipykernel)",
   "language": "python",
   "name": "python3"
  },
  "language_info": {
   "codemirror_mode": {
    "name": "ipython",
    "version": 3
   },
   "file_extension": ".py",
   "mimetype": "text/x-python",
   "name": "python",
   "nbconvert_exporter": "python",
   "pygments_lexer": "ipython3",
   "version": "3.7.11"
  }
 },
 "nbformat": 4,
 "nbformat_minor": 5
}
