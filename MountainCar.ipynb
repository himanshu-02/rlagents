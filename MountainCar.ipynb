{
 "cells": [
  {
   "cell_type": "code",
   "execution_count": 8,
   "id": "4d87790b",
   "metadata": {},
   "outputs": [],
   "source": [
    "import gym\n",
    "import math\n",
    "import random\n",
    "import numpy as np\n",
    "import matplotlib\n",
    "import matplotlib.pyplot as plt"
   ]
  },
  {
   "cell_type": "code",
   "execution_count": null,
   "id": "5ee9ddec",
   "metadata": {},
   "outputs": [],
   "source": []
  },
  {
   "cell_type": "code",
   "execution_count": 9,
   "id": "cb3c7f82",
   "metadata": {},
   "outputs": [],
   "source": [
    "env = gym.make('MountainCar-v0')\n",
    "env.reset()\n",
    "\n",
    "def newreward(pos):\n",
    "    if(pos >= 0.5):\n",
    "        #return 2\n",
    "        return 0\n",
    "    else:\n",
    "        #return (pos-(-1.2)/1.8- 1\n",
    "        return -1\n",
    "\n",
    "def QLearning(env, learning, epsilon, min_eps, episodes):\n",
    "    num_states = (env.observation_space.high - env.observation_space.low)*np.array([10, 50])\n",
    "    num_states = np.round(num_states, 0).astype(int) + 1\n",
    "    \n",
    "    Q = np.random.uniform(low = -1, high = 0, size = (num_states[0], num_states[1], env.action_space.n))\n",
    "    \n",
    "    reward_list = []\n",
    "    average_reward_list= []\n",
    "    \n",
    "    reduction =  (epsilon - min_eps)/episodes \n",
    "    \n",
    "    eps1 = epsilon\n",
    "    \n",
    "    first = episodes + 1\n",
    "    \n",
    "    for i in range (episodes):\n",
    "        done = False\n",
    "        tot_reward = 0\n",
    "        reward = 0\n",
    "        state = env.reset()\n",
    "        \n",
    "        state_adj = (state - env.observation_space.low)*np.array([10, 50])\n",
    "        state_adj= np.round(state_adj, 0).astype(int)\n",
    "        \n",
    "        while done != True : \n",
    "            if i >= (episodes - 5) or i<5:\n",
    "                env.render()\n",
    "                \n",
    "            if np.random.random()< 1 - epsilon:\n",
    "                action = np.argmax(Q[state_adj[0], state_adj[1]])\n",
    "            else:\n",
    "                action = np.random.randint(0, env.action_space.n)\n",
    "                \n",
    "            state2, reward, done, info = env.step(action)\n",
    "            \n",
    "            state2_adj = (state2 - env.observation_space.low)*np.array([10,50])\n",
    "            state2_adj = np.round(state2_adj, 0).astype(int)\n",
    "                            \n",
    "            if done and state2[0] >= 0.5:\n",
    "                    Q[state_adj[0], state_adj[1], action] = reward\n",
    "            else:\n",
    "                    delta = learning*(newreward(state[0]) + np.max(Q[state2_adj[0], state2_adj[1]] - Q[state_adj[0], state_adj[1], action]))\n",
    "                    Q[state_adj[0], state_adj[1], action] += delta\n",
    "            \n",
    "            if state2[0] >= 0.5 and i<first:\n",
    "                    first = i\n",
    "                    print('First Clear on episode {}'.format(i+1))\n",
    "                                                  \n",
    "            tot_reward += newreward(state2[0])\n",
    "            state_adj = state2_adj\n",
    "                                                  \n",
    "        if epsilon > min_eps:\n",
    "                #epsilon -= reduction\n",
    "                epsilon *= eps1\n",
    "        \n",
    "                            \n",
    "        reward_list.append(tot_reward)\n",
    "                                    \n",
    "        if (i+1) % 100 == 0:\n",
    "            average_reward = np.mean(reward_list)\n",
    "            average_reward_list.append(average_reward)\n",
    "            reward_list = []\n",
    "                                                \n",
    "        if (i+1) % 1000 == 0:\n",
    "            print('Episode {} average reward: {}'.format(i+1, average_reward))\n",
    "        \n",
    "    env.close()\n",
    "                \n",
    "    return average_reward_list, Q\n",
    "                                                  "
   ]
  },
  {
   "cell_type": "code",
   "execution_count": 10,
   "id": "54ccd2ab",
   "metadata": {},
   "outputs": [
    {
     "name": "stdout",
     "output_type": "stream",
     "text": [
      "First Clear on episode 111\n",
      "Episode 1000 average reward: -193.57\n"
     ]
    }
   ],
   "source": [
    "env.reset()\n",
    "rewards, Qpts = QLearning(env, 0.2, 0.9, 0, 1000)"
   ]
  },
  {
   "cell_type": "code",
   "execution_count": 7,
   "id": "48a73d65",
   "metadata": {},
   "outputs": [
    {
     "data": {
      "text/plain": [
       "Text(0.5, 1.0, 'Average Reward vs Episodes')"
      ]
     },
     "execution_count": 7,
     "metadata": {},
     "output_type": "execute_result"
    },
    {
     "data": {
      "image/png": "[encoded data removed]",
      "text/plain": [
       "<Figure size 432x288 with 1 Axes>"
      ]
     },
     "metadata": {
      "needs_background": "light"
     },
     "output_type": "display_data"
    }
   ],
   "source": [
    "plt.plot(100*(np.arange(len(rewards)) +1), rewards)\n",
    "plt.xlabel('Episodes')\n",
    "plt.ylabel('Average Reward')\n",
    "plt.title('Average Reward vs Episodes')"
   ]
  },
  {
   "cell_type": "code",
   "execution_count": null,
   "id": "b090911d",
   "metadata": {},
   "outputs": [],
   "source": []
  },
  {
   "cell_type": "code",
   "execution_count": 2,
   "id": "6d223b7b",
   "metadata": {},
   "outputs": [
    {
     "ename": "NameError",
     "evalue": "name 'env' is not defined",
     "output_type": "error",
     "traceback": [
      "\u001b[1;31m---------------------------------------------------------------------------\u001b[0m",
      "\u001b[1;31mNameError\u001b[0m                                 Traceback (most recent call last)",
      "\u001b[1;32m<ipython-input-2-4c7c6ba28110>\u001b[0m in \u001b[0;36m<module>\u001b[1;34m\u001b[0m\n\u001b[0;32m      1\u001b[0m \u001b[1;32mfor\u001b[0m \u001b[0mi\u001b[0m \u001b[1;32min\u001b[0m \u001b[0mrange\u001b[0m \u001b[1;33m(\u001b[0m\u001b[1;36m20\u001b[0m\u001b[1;33m)\u001b[0m\u001b[1;33m:\u001b[0m\u001b[1;33m\u001b[0m\u001b[1;33m\u001b[0m\u001b[0m\n\u001b[0;32m      2\u001b[0m     \u001b[0mdone1\u001b[0m \u001b[1;33m=\u001b[0m \u001b[1;32mFalse\u001b[0m\u001b[1;33m\u001b[0m\u001b[1;33m\u001b[0m\u001b[0m\n\u001b[1;32m----> 3\u001b[1;33m     \u001b[0mstate1\u001b[0m\u001b[1;33m=\u001b[0m\u001b[0menv\u001b[0m\u001b[1;33m.\u001b[0m\u001b[0mreset\u001b[0m\u001b[1;33m(\u001b[0m\u001b[1;33m)\u001b[0m\u001b[1;33m\u001b[0m\u001b[1;33m\u001b[0m\u001b[0m\n\u001b[0m\u001b[0;32m      4\u001b[0m     \u001b[0mstate_adj1\u001b[0m \u001b[1;33m=\u001b[0m \u001b[1;33m(\u001b[0m\u001b[0mstate1\u001b[0m \u001b[1;33m-\u001b[0m \u001b[0menv\u001b[0m\u001b[1;33m.\u001b[0m\u001b[0mobservation_space\u001b[0m\u001b[1;33m.\u001b[0m\u001b[0mlow\u001b[0m\u001b[1;33m)\u001b[0m\u001b[1;33m*\u001b[0m\u001b[0mnp\u001b[0m\u001b[1;33m.\u001b[0m\u001b[0marray\u001b[0m\u001b[1;33m(\u001b[0m\u001b[1;33m[\u001b[0m\u001b[1;36m10\u001b[0m\u001b[1;33m,\u001b[0m \u001b[1;36m50\u001b[0m\u001b[1;33m]\u001b[0m\u001b[1;33m)\u001b[0m\u001b[1;33m\u001b[0m\u001b[1;33m\u001b[0m\u001b[0m\n\u001b[0;32m      5\u001b[0m     \u001b[0mstate_adj1\u001b[0m\u001b[1;33m=\u001b[0m \u001b[0mnp\u001b[0m\u001b[1;33m.\u001b[0m\u001b[0mround\u001b[0m\u001b[1;33m(\u001b[0m\u001b[0mstate_adj1\u001b[0m\u001b[1;33m,\u001b[0m \u001b[1;36m0\u001b[0m\u001b[1;33m)\u001b[0m\u001b[1;33m.\u001b[0m\u001b[0mastype\u001b[0m\u001b[1;33m(\u001b[0m\u001b[0mint\u001b[0m\u001b[1;33m)\u001b[0m\u001b[1;33m\u001b[0m\u001b[1;33m\u001b[0m\u001b[0m\n",
      "\u001b[1;31mNameError\u001b[0m: name 'env' is not defined"
     ]
    }
   ],
   "source": [
    "for i in range (20):\n",
    "    done1 = False\n",
    "    state1=env.reset()\n",
    "    state_adj1 = (state1 - env.observation_space.low)*np.array([10, 50])\n",
    "    state_adj1= np.round(state_adj1, 0).astype(int)\n",
    "    while done1 != True:\n",
    "        env.render()\n",
    "        action = np.argmax(Qpts[state_adj1[0], state_adj1[1]])\n",
    "        state3, reward1, done1, info1 = env.step(action)\n",
    "        state3_adj = (state3 - env.observation_space.low)*np.array([10,50])\n",
    "        state3_adj = np.round(state3_adj, 0).astype(int)\n",
    "        state_adj1 = state3_adj"
   ]
  },
  {
   "cell_type": "code",
   "execution_count": null,
   "id": "e32e03df",
   "metadata": {},
   "outputs": [],
   "source": [
    "env.close()"
   ]
  },
  {
   "cell_type": "code",
   "execution_count": null,
   "id": "101b4366",
   "metadata": {},
   "outputs": [],
   "source": []
  }
 ],
 "metadata": {
  "kernelspec": {
   "display_name": "Python 3",
   "language": "python",
   "name": "python3"
  },
  "language_info": {
   "codemirror_mode": {
    "name": "ipython",
    "version": 3
   },
   "file_extension": ".py",
   "mimetype": "text/x-python",
   "name": "python",
   "nbconvert_exporter": "python",
   "pygments_lexer": "ipython3",
   "version": "3.8.8"
  }
 },
 "nbformat": 4,
 "nbformat_minor": 5
}
